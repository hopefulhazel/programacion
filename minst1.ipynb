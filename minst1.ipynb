{
  "nbformat": 4,
  "nbformat_minor": 0,
  "metadata": {
    "colab": {
      "name": "minst1.ipynb",
      "version": "0.3.2",
      "provenance": [],
      "collapsed_sections": [],
      "include_colab_link": true
    },
    "kernelspec": {
      "name": "python3",
      "display_name": "Python 3"
    },
    "accelerator": "GPU"
  },
  "cells": [
    {
      "cell_type": "markdown",
      "metadata": {
        "id": "view-in-github",
        "colab_type": "text"
      },
      "source": [
        "<a href=\"https://colab.research.google.com/github/hopefulhazel/programacion/blob/master/minst1.ipynb\" target=\"_parent\"><img src=\"https://colab.research.google.com/assets/colab-badge.svg\" alt=\"Open In Colab\"/></a>"
      ]
    },
    {
      "cell_type": "markdown",
      "metadata": {
        "id": "-xxcvRd8nRyN",
        "colab_type": "text"
      },
      "source": [
        "# Getting the digits"
      ]
    },
    {
      "cell_type": "code",
      "metadata": {
        "id": "dQJXUNmKkE35",
        "colab_type": "code",
        "colab": {
          "base_uri": "https://localhost:8080/",
          "height": 34
        },
        "outputId": "2487ef31-2e9e-491b-e2ba-6fe22e05b248"
      },
      "source": [
        "print('try')"
      ],
      "execution_count": 1,
      "outputs": [
        {
          "output_type": "stream",
          "text": [
            "try\n"
          ],
          "name": "stdout"
        }
      ]
    },
    {
      "cell_type": "code",
      "metadata": {
        "id": "MP0Nk8AMkIzW",
        "colab_type": "code",
        "colab": {
          "base_uri": "https://localhost:8080/",
          "height": 46
        },
        "outputId": "9e6ab66c-1acf-4799-f3de-02e47ecd2276"
      },
      "source": [
        "!pip install -q keras\n",
        "\n",
        "import keras\n"
      ],
      "execution_count": 2,
      "outputs": [
        {
          "output_type": "stream",
          "text": [
            "Using TensorFlow backend.\n"
          ],
          "name": "stderr"
        }
      ]
    },
    {
      "cell_type": "code",
      "metadata": {
        "id": "gYr8fA7-kSrR",
        "colab_type": "code",
        "colab": {}
      },
      "source": [
        "from __future__ import absolute_import\n",
        "from __future__ import division\n",
        "from __future__ import print_function\n",
        "\n",
        "\n",
        "\n",
        "import numpy as np\n",
        "from keras.datasets import mnist\n",
        "from keras.models import Sequential\n",
        "from keras.layers import Activation, Dense, Dropout\n",
        "from keras.layers import Conv2D, MaxPooling2D, Flatten\n",
        "from keras.utils import to_categorical, plot_model\n",
        "from keras.datasets import mnist\n",
        "import matplotlib.pyplot as plt\n",
        "from keras.utils import plot_model\n",
        "\n",
        "@property\n",
        "def layers(self):\n",
        "    # Historically, `sequential.layers` only returns layers that were added\n",
        "    # via `add`, and omits the auto-generated `InputLayer`\n",
        "    # that comes at the bottom of the stack.\n",
        "    if self._layers and isinstance(self._layers[0], InputLayer):\n",
        "        return self._layers[1:]\n",
        "    return self._layers"
      ],
      "execution_count": 0,
      "outputs": []
    },
    {
      "cell_type": "code",
      "metadata": {
        "id": "Xsv14ifokgoA",
        "colab_type": "code",
        "colab": {}
      },
      "source": [
        "(x_train, y_train), (x_test, y_test) = mnist.load_data()"
      ],
      "execution_count": 0,
      "outputs": []
    },
    {
      "cell_type": "markdown",
      "metadata": {
        "id": "UEBarIfnlJsg",
        "colab_type": "text"
      },
      "source": [
        "count the number of unique train labels"
      ]
    },
    {
      "cell_type": "code",
      "metadata": {
        "id": "PcS5kYR9kp4x",
        "colab_type": "code",
        "colab": {
          "base_uri": "https://localhost:8080/",
          "height": 59
        },
        "outputId": "217cb8f1-1dc7-480f-a43e-1da4e5288b95"
      },
      "source": [
        "unique, counts = np.unique(y_train, return_counts = True)\n",
        "print(\"Train labels: \", dict(zip(unique, counts)))"
      ],
      "execution_count": 5,
      "outputs": [
        {
          "output_type": "stream",
          "text": [
            "Train labels:  {0: 5923, 1: 6742, 2: 5958, 3: 6131, 4: 5842, 5: 5421, 6: 5918, 7: 6265, 8: 5851, 9: 5949}\n"
          ],
          "name": "stdout"
        }
      ]
    },
    {
      "cell_type": "markdown",
      "metadata": {
        "id": "j7Zh64culCuB",
        "colab_type": "text"
      },
      "source": [
        "count the number of unique test labels"
      ]
    },
    {
      "cell_type": "code",
      "metadata": {
        "id": "kIYo6VYWk-xP",
        "colab_type": "code",
        "colab": {
          "base_uri": "https://localhost:8080/",
          "height": 34
        },
        "outputId": "23292a0d-c1dc-42f5-d850-fe47d40ff5dd"
      },
      "source": [
        "unique, counts = np.unique(y_test, return_counts = True)\n",
        "print(\"Test labels: \", dict(zip(unique, counts)))"
      ],
      "execution_count": 6,
      "outputs": [
        {
          "output_type": "stream",
          "text": [
            "Test labels:  {0: 980, 1: 1135, 2: 1032, 3: 1010, 4: 982, 5: 892, 6: 958, 7: 1028, 8: 974, 9: 1009}\n"
          ],
          "name": "stdout"
        }
      ]
    },
    {
      "cell_type": "code",
      "metadata": {
        "id": "Dq42NYbzlfpQ",
        "colab_type": "code",
        "colab": {}
      },
      "source": [
        "indexes = np.random.randint(0, x_train.shape[0], size=25)\n",
        "images = x_train[indexes]\n",
        "labels = y_train[indexes]"
      ],
      "execution_count": 0,
      "outputs": []
    },
    {
      "cell_type": "markdown",
      "metadata": {
        "id": "3F6ArhvQm8Ou",
        "colab_type": "text"
      },
      "source": [
        "choose a 5x5= 25 random numbers/digits from the list"
      ]
    },
    {
      "cell_type": "code",
      "metadata": {
        "id": "aXXe-O6-lxvZ",
        "colab_type": "code",
        "colab": {
          "base_uri": "https://localhost:8080/",
          "height": 323
        },
        "outputId": "f12d50a6-c540-4866-885c-7b80120037a3"
      },
      "source": [
        "plt.figure(figsize=(5,5))\n",
        "for i in range(len(indexes)):\n",
        "    plt.subplot(5,5, i+1)\n",
        "    image = images[i]\n",
        "    plt.imshow(image, cmap= 'gray')\n",
        "    plt.axis('off')\n",
        "plt.show()\n",
        "plt.savefig(\"mnist-samples.png\")\n",
        "plt.close('all')"
      ],
      "execution_count": 8,
      "outputs": [
        {
          "output_type": "display_data",
          "data": {
            "image/png": "[encoded data removed]",
            "text/plain": [
              "<Figure size 360x360 with 25 Axes>"
            ]
          },
          "metadata": {
            "tags": []
          }
        }
      ]
    },
    {
      "cell_type": "markdown",
      "metadata": {
        "id": "F8f0t06encbl",
        "colab_type": "text"
      },
      "source": [
        "# Classifying the digits"
      ]
    },
    {
      "cell_type": "markdown",
      "metadata": {
        "id": "uz3hrTMoFFEU",
        "colab_type": "text"
      },
      "source": [
        "*MLP fully connected network*"
      ]
    },
    {
      "cell_type": "code",
      "metadata": {
        "id": "k94KUCOBnELu",
        "colab_type": "code",
        "colab": {}
      },
      "source": [
        "num_labels = len(np.unique(y_train))"
      ],
      "execution_count": 0,
      "outputs": []
    },
    {
      "cell_type": "code",
      "metadata": {
        "id": "Enmuo3uowkPj",
        "colab_type": "code",
        "colab": {}
      },
      "source": [
        "y_train = to_categorical(y_train)\n",
        "y_test = to_categorical(y_test)\n"
      ],
      "execution_count": 0,
      "outputs": []
    },
    {
      "cell_type": "code",
      "metadata": {
        "id": "Vt1-k6slwlzT",
        "colab_type": "code",
        "colab": {}
      },
      "source": [
        "image_size = x_train.shape[1]"
      ],
      "execution_count": 0,
      "outputs": []
    },
    {
      "cell_type": "markdown",
      "metadata": {
        "id": "NKIR1A9cw8lz",
        "colab_type": "text"
      },
      "source": [
        "resize and normalize\n"
      ]
    },
    {
      "cell_type": "code",
      "metadata": {
        "id": "yNYYzcr2w6ey",
        "colab_type": "code",
        "colab": {}
      },
      "source": [
        "x_train = np.reshape(x_train,[-1, image_size, image_size, 1])\n",
        "x_test = np.reshape(x_test,[-1, image_size, image_size, 1])\n",
        "x_train = x_train.astype('float32') / 255\n",
        "x_test = x_test.astype('float32') / 255\n"
      ],
      "execution_count": 0,
      "outputs": []
    },
    {
      "cell_type": "markdown",
      "metadata": {
        "id": "gWMLs41yxCmC",
        "colab_type": "text"
      },
      "source": [
        "network parameters"
      ]
    },
    {
      "cell_type": "code",
      "metadata": {
        "id": "E0n-bvJ6w_XD",
        "colab_type": "code",
        "colab": {}
      },
      "source": [
        "input_shape = (image_size, image_size, 1)\n",
        "batch_size = 128\n",
        "kernel_size = 3\n",
        "pool_size = 2\n",
        "filters = 64\n",
        "dropout = 0.2"
      ],
      "execution_count": 0,
      "outputs": []
    },
    {
      "cell_type": "code",
      "metadata": {
        "id": "bSIXs-XQxHvQ",
        "colab_type": "code",
        "colab": {
          "base_uri": "https://localhost:8080/",
          "height": 195
        },
        "outputId": "3a1cbf2f-e4ed-4a5a-a7df-09330fa6e00f"
      },
      "source": [
        "model = Sequential()\n",
        "model.add(Conv2D(filters=filters,\n",
        "                 kernel_size=kernel_size,\n",
        "                 activation='relu',\n",
        "                 input_shape=input_shape))\n",
        "model.add(MaxPooling2D(pool_size))\n",
        "model.add(Conv2D(filters=filters,\n",
        "                 kernel_size=kernel_size,\n",
        "                 activation='relu'))\n",
        "model.add(MaxPooling2D(pool_size))\n",
        "model.add(Conv2D(filters=filters,\n",
        "                 kernel_size=kernel_size,\n",
        "                 activation='relu'))\n",
        "model.add(Flatten())"
      ],
      "execution_count": 14,
      "outputs": [
        {
          "output_type": "stream",
          "text": [
            "WARNING: Logging before flag parsing goes to stderr.\n",
            "W0625 09:41:49.605022 139648617109376 deprecation_wrapper.py:119] From /usr/local/lib/python3.6/dist-packages/keras/backend/tensorflow_backend.py:74: The name tf.get_default_graph is deprecated. Please use tf.compat.v1.get_default_graph instead.\n",
            "\n",
            "W0625 09:41:49.623029 139648617109376 deprecation_wrapper.py:119] From /usr/local/lib/python3.6/dist-packages/keras/backend/tensorflow_backend.py:517: The name tf.placeholder is deprecated. Please use tf.compat.v1.placeholder instead.\n",
            "\n",
            "W0625 09:41:49.625915 139648617109376 deprecation_wrapper.py:119] From /usr/local/lib/python3.6/dist-packages/keras/backend/tensorflow_backend.py:4138: The name tf.random_uniform is deprecated. Please use tf.random.uniform instead.\n",
            "\n",
            "W0625 09:41:49.642493 139648617109376 deprecation_wrapper.py:119] From /usr/local/lib/python3.6/dist-packages/keras/backend/tensorflow_backend.py:3976: The name tf.nn.max_pool is deprecated. Please use tf.nn.max_pool2d instead.\n",
            "\n"
          ],
          "name": "stderr"
        }
      ]
    },
    {
      "cell_type": "code",
      "metadata": {
        "id": "rbR3cOzpxMnA",
        "colab_type": "code",
        "colab": {
          "base_uri": "https://localhost:8080/",
          "height": 127
        },
        "outputId": "246fc7b8-9a90-4be6-b8f5-8f79cef534df"
      },
      "source": [
        "model.add(Dropout(dropout))"
      ],
      "execution_count": 15,
      "outputs": [
        {
          "output_type": "stream",
          "text": [
            "W0625 09:41:49.679953 139648617109376 deprecation_wrapper.py:119] From /usr/local/lib/python3.6/dist-packages/keras/backend/tensorflow_backend.py:133: The name tf.placeholder_with_default is deprecated. Please use tf.compat.v1.placeholder_with_default instead.\n",
            "\n",
            "W0625 09:41:49.693662 139648617109376 deprecation.py:506] From /usr/local/lib/python3.6/dist-packages/keras/backend/tensorflow_backend.py:3445: calling dropout (from tensorflow.python.ops.nn_ops) with keep_prob is deprecated and will be removed in a future version.\n",
            "Instructions for updating:\n",
            "Please use `rate` instead of `keep_prob`. Rate should be set to `rate = 1 - keep_prob`.\n"
          ],
          "name": "stderr"
        }
      ]
    },
    {
      "cell_type": "code",
      "metadata": {
        "id": "YgRis4RmyVQC",
        "colab_type": "code",
        "colab": {
          "base_uri": "https://localhost:8080/",
          "height": 530
        },
        "outputId": "54f2ead1-b2df-48a9-f888-df588a17fad0"
      },
      "source": [
        "model.add(Dense(num_labels))\n",
        "model.add(Activation('softmax'))\n",
        "model.compile(loss='categorical_crossentropy',\n",
        "              optimizer='adam',\n",
        "              metrics=['accuracy'])\n",
        "model.summary()\n"
      ],
      "execution_count": 16,
      "outputs": [
        {
          "output_type": "stream",
          "text": [
            "W0625 09:41:49.731720 139648617109376 deprecation_wrapper.py:119] From /usr/local/lib/python3.6/dist-packages/keras/optimizers.py:790: The name tf.train.Optimizer is deprecated. Please use tf.compat.v1.train.Optimizer instead.\n",
            "\n",
            "W0625 09:41:49.753728 139648617109376 deprecation_wrapper.py:119] From /usr/local/lib/python3.6/dist-packages/keras/backend/tensorflow_backend.py:3295: The name tf.log is deprecated. Please use tf.math.log instead.\n",
            "\n"
          ],
          "name": "stderr"
        },
        {
          "output_type": "stream",
          "text": [
            "_________________________________________________________________\n",
            "Layer (type)                 Output Shape              Param #   \n",
            "=================================================================\n",
            "conv2d_1 (Conv2D)            (None, 26, 26, 64)        640       \n",
            "_________________________________________________________________\n",
            "max_pooling2d_1 (MaxPooling2 (None, 13, 13, 64)        0         \n",
            "_________________________________________________________________\n",
            "conv2d_2 (Conv2D)            (None, 11, 11, 64)        36928     \n",
            "_________________________________________________________________\n",
            "max_pooling2d_2 (MaxPooling2 (None, 5, 5, 64)          0         \n",
            "_________________________________________________________________\n",
            "conv2d_3 (Conv2D)            (None, 3, 3, 64)          36928     \n",
            "_________________________________________________________________\n",
            "flatten_1 (Flatten)          (None, 576)               0         \n",
            "_________________________________________________________________\n",
            "dropout_1 (Dropout)          (None, 576)               0         \n",
            "_________________________________________________________________\n",
            "dense_1 (Dense)              (None, 10)                5770      \n",
            "_________________________________________________________________\n",
            "activation_1 (Activation)    (None, 10)                0         \n",
            "=================================================================\n",
            "Total params: 80,266\n",
            "Trainable params: 80,266\n",
            "Non-trainable params: 0\n",
            "_________________________________________________________________\n"
          ],
          "name": "stdout"
        }
      ]
    },
    {
      "cell_type": "code",
      "metadata": {
        "id": "bsywypH5_xrJ",
        "colab_type": "code",
        "colab": {}
      },
      "source": [
        "plot_model(model, to_file='cnn-mnist.png', show_shapes=True)"
      ],
      "execution_count": 0,
      "outputs": []
    },
    {
      "cell_type": "code",
      "metadata": {
        "id": "kmz56zE-y6JH",
        "colab_type": "code",
        "colab": {
          "base_uri": "https://localhost:8080/",
          "height": 1000
        },
        "outputId": "8093d119-bad9-428f-c6eb-b521edd1a811"
      },
      "source": [
        "model.fit(x_train, y_train, epochs=20, batch_size=batch_size)\n"
      ],
      "execution_count": 18,
      "outputs": [
        {
          "output_type": "stream",
          "text": [
            "W0625 09:41:49.965997 139648617109376 deprecation.py:323] From /usr/local/lib/python3.6/dist-packages/tensorflow/python/ops/math_grad.py:1250: add_dispatch_support.<locals>.wrapper (from tensorflow.python.ops.array_ops) is deprecated and will be removed in a future version.\n",
            "Instructions for updating:\n",
            "Use tf.where in 2.0, which has the same broadcast rule as np.where\n"
          ],
          "name": "stderr"
        },
        {
          "output_type": "stream",
          "text": [
            "Epoch 1/20\n",
            "60000/60000 [==============================] - 6s 107us/step - loss: 0.2572 - acc: 0.9218\n",
            "Epoch 2/20\n",
            "60000/60000 [==============================] - 3s 53us/step - loss: 0.0656 - acc: 0.9796\n",
            "Epoch 3/20\n",
            "60000/60000 [==============================] - 3s 53us/step - loss: 0.0454 - acc: 0.9865\n",
            "Epoch 4/20\n",
            "60000/60000 [==============================] - 3s 53us/step - loss: 0.0357 - acc: 0.9885\n",
            "Epoch 5/20\n",
            "60000/60000 [==============================] - 3s 53us/step - loss: 0.0299 - acc: 0.9903\n",
            "Epoch 6/20\n",
            "60000/60000 [==============================] - 3s 53us/step - loss: 0.0262 - acc: 0.9913\n",
            "Epoch 7/20\n",
            "60000/60000 [==============================] - 3s 53us/step - loss: 0.0222 - acc: 0.9929\n",
            "Epoch 8/20\n",
            "60000/60000 [==============================] - 3s 53us/step - loss: 0.0207 - acc: 0.9932\n",
            "Epoch 9/20\n",
            "60000/60000 [==============================] - 3s 53us/step - loss: 0.0174 - acc: 0.9939\n",
            "Epoch 10/20\n",
            "60000/60000 [==============================] - 3s 53us/step - loss: 0.0158 - acc: 0.9947\n",
            "Epoch 11/20\n",
            "60000/60000 [==============================] - 3s 53us/step - loss: 0.0136 - acc: 0.9954\n",
            "Epoch 12/20\n",
            "60000/60000 [==============================] - 3s 53us/step - loss: 0.0125 - acc: 0.9960\n",
            "Epoch 13/20\n",
            "60000/60000 [==============================] - 3s 53us/step - loss: 0.0112 - acc: 0.9963\n",
            "Epoch 14/20\n",
            "60000/60000 [==============================] - 3s 53us/step - loss: 0.0105 - acc: 0.9964\n",
            "Epoch 15/20\n",
            "60000/60000 [==============================] - 3s 53us/step - loss: 0.0100 - acc: 0.9966\n",
            "Epoch 16/20\n",
            "60000/60000 [==============================] - 3s 53us/step - loss: 0.0089 - acc: 0.9967\n",
            "Epoch 17/20\n",
            "60000/60000 [==============================] - 3s 53us/step - loss: 0.0092 - acc: 0.9965\n",
            "Epoch 18/20\n",
            "60000/60000 [==============================] - 3s 53us/step - loss: 0.0066 - acc: 0.9977\n",
            "Epoch 19/20\n",
            "60000/60000 [==============================] - 3s 53us/step - loss: 0.0073 - acc: 0.9978\n",
            "Epoch 20/20\n",
            "60000/60000 [==============================] - 3s 53us/step - loss: 0.0073 - acc: 0.9974\n"
          ],
          "name": "stdout"
        },
        {
          "output_type": "execute_result",
          "data": {
            "text/plain": [
              "<keras.callbacks.History at 0x7f022d2e9860>"
            ]
          },
          "metadata": {
            "tags": []
          },
          "execution_count": 18
        }
      ]
    },
    {
      "cell_type": "markdown",
      "metadata": {
        "id": "fgEC4XkP22Rg",
        "colab_type": "text"
      },
      "source": [
        "***Epoch: an arbitrary cutoff, generally defined as \"one pass over the entire dataset\", used to separate training into distinct phases, which is useful for logging and periodic evaluation.***\n",
        "\n",
        "***batch size parameter: is the sample size of the number of inputs to process at each training step ***\n"
      ]
    },
    {
      "cell_type": "markdown",
      "metadata": {
        "id": "t2Z76BWr66HR",
        "colab_type": "text"
      },
      "source": [
        "loss: we want to minimize it. if the loss is reduced to an acceptable level, the model has indirectly learned the function mapping input to output\n",
        "\n",
        "\n",
        "accuracy: is the percent of correct predictions based on ground truth"
      ]
    },
    {
      "cell_type": "code",
      "metadata": {
        "id": "_Qcn9GENy49O",
        "colab_type": "code",
        "colab": {
          "base_uri": "https://localhost:8080/",
          "height": 34
        },
        "outputId": "9e523b78-9fa5-47e2-eff4-8ab6ac6c4c22"
      },
      "source": [
        "loss, acc = model.evaluate(x_test, y_test, batch_size=batch_size)"
      ],
      "execution_count": 19,
      "outputs": [
        {
          "output_type": "stream",
          "text": [
            "10000/10000 [==============================] - 0s 26us/step\n"
          ],
          "name": "stdout"
        }
      ]
    },
    {
      "cell_type": "code",
      "metadata": {
        "id": "mvQ34uyU1jON",
        "colab_type": "code",
        "colab": {}
      },
      "source": [
        ""
      ],
      "execution_count": 0,
      "outputs": []
    }
  ]
}