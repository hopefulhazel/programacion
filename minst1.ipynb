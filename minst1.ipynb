{
  "nbformat": 4,
  "nbformat_minor": 0,
  "metadata": {
    "colab": {
      "name": "minst1.ipynb",
      "version": "0.3.2",
      "provenance": [],
      "collapsed_sections": [
        "-xxcvRd8nRyN"
      ],
      "include_colab_link": true
    },
    "kernelspec": {
      "name": "python3",
      "display_name": "Python 3"
    },
    "accelerator": "GPU"
  },
  "cells": [
    {
      "cell_type": "markdown",
      "metadata": {
        "id": "view-in-github",
        "colab_type": "text"
      },
      "source": [
        "<a href=\"https://colab.research.google.com/github/hopefulhazel/programacion/blob/master/minst1.ipynb\" target=\"_parent\"><img src=\"https://colab.research.google.com/assets/colab-badge.svg\" alt=\"Open In Colab\"/></a>"
      ]
    },
    {
      "cell_type": "markdown",
      "metadata": {
        "id": "-xxcvRd8nRyN",
        "colab_type": "text"
      },
      "source": [
        "# Getting the digits"
      ]
    },
    {
      "cell_type": "code",
      "metadata": {
        "id": "dQJXUNmKkE35",
        "colab_type": "code",
        "outputId": "ef8a9eb9-dca9-4b67-e3e6-4bf4f78100df",
        "colab": {
          "base_uri": "https://localhost:8080/",
          "height": 0
        }
      },
      "source": [
        "print('try')"
      ],
      "execution_count": 1,
      "outputs": [
        {
          "output_type": "stream",
          "text": [
            "try\n"
          ],
          "name": "stdout"
        }
      ]
    },
    {
      "cell_type": "code",
      "metadata": {
        "id": "MP0Nk8AMkIzW",
        "colab_type": "code",
        "colab": {
          "base_uri": "https://localhost:8080/",
          "height": 0
        },
        "outputId": "1d406a94-4f01-4ea4-d763-185618266342"
      },
      "source": [
        "!pip install -q keras\n",
        "\n",
        "import keras\n"
      ],
      "execution_count": 2,
      "outputs": [
        {
          "output_type": "stream",
          "text": [
            "Using TensorFlow backend.\n"
          ],
          "name": "stderr"
        }
      ]
    },
    {
      "cell_type": "code",
      "metadata": {
        "id": "gYr8fA7-kSrR",
        "colab_type": "code",
        "colab": {}
      },
      "source": [
        "from __future__ import absolute_import\n",
        "from __future__ import division\n",
        "from __future__ import print_function\n",
        "\n",
        "\n",
        "\n",
        "import numpy as np\n",
        "from keras.datasets import mnist\n",
        "from keras.models import Sequential\n",
        "from keras.layers import Activation, Dense, Dropout\n",
        "from keras.layers import Conv2D, MaxPooling2D, Flatten\n",
        "from keras.utils import to_categorical, plot_model\n",
        "from keras.datasets import mnist\n",
        "import matplotlib.pyplot as plt\n",
        "from keras.utils import plot_model\n",
        "\n",
        "def _check_pydot():\n",
        "    try:\n",
        "        # Attempt to create an image of a blank graph\n",
        "        # to check the pydot/graphviz installation.\n",
        "        pydot.Dot.create(pydot.Dot())\n",
        "    except Exception:\n",
        "        # pydot raises a generic Exception here,\n",
        "        # so no specific class can be caught.\n",
        "        raise ImportError('Failed to import pydot. You must install pydot'\n",
        "                          ' and graphviz for `pydotprint` to work.')\n",
        "\n",
        "@property\n",
        "def layers(self):\n",
        "    # Historically, `sequential.layers` only returns layers that were added\n",
        "    # via `add`, and omits the auto-generated `InputLayer`\n",
        "    # that comes at the bottom of the stack.\n",
        "    if self._layers and isinstance(self._layers[0], InputLayer):\n",
        "        return self._layers[1:]\n",
        "    return self._layers\n",
        "  \n"
      ],
      "execution_count": 0,
      "outputs": []
    },
    {
      "cell_type": "code",
      "metadata": {
        "id": "Xsv14ifokgoA",
        "colab_type": "code",
        "colab": {}
      },
      "source": [
        "(x_train, y_train), (x_test, y_test) = mnist.load_data()"
      ],
      "execution_count": 0,
      "outputs": []
    },
    {
      "cell_type": "markdown",
      "metadata": {
        "id": "UEBarIfnlJsg",
        "colab_type": "text"
      },
      "source": [
        "count the number of unique train labels"
      ]
    },
    {
      "cell_type": "code",
      "metadata": {
        "id": "PcS5kYR9kp4x",
        "colab_type": "code",
        "outputId": "2d9c1787-94d6-4040-de10-b5e7d76816ed",
        "colab": {
          "base_uri": "https://localhost:8080/",
          "height": 0
        }
      },
      "source": [
        "unique, counts = np.unique(y_train, return_counts = True)\n",
        "print(\"Train labels: \", dict(zip(unique, counts)))"
      ],
      "execution_count": 5,
      "outputs": [
        {
          "output_type": "stream",
          "text": [
            "Train labels:  {0: 5923, 1: 6742, 2: 5958, 3: 6131, 4: 5842, 5: 5421, 6: 5918, 7: 6265, 8: 5851, 9: 5949}\n"
          ],
          "name": "stdout"
        }
      ]
    },
    {
      "cell_type": "markdown",
      "metadata": {
        "id": "j7Zh64culCuB",
        "colab_type": "text"
      },
      "source": [
        "count the number of unique test labels"
      ]
    },
    {
      "cell_type": "code",
      "metadata": {
        "id": "kIYo6VYWk-xP",
        "colab_type": "code",
        "outputId": "d741facf-f31c-4247-c44a-1c7aa32b264c",
        "colab": {
          "base_uri": "https://localhost:8080/",
          "height": 0
        }
      },
      "source": [
        "unique, counts = np.unique(y_test, return_counts = True)\n",
        "print(\"Test labels: \", dict(zip(unique, counts)))"
      ],
      "execution_count": 6,
      "outputs": [
        {
          "output_type": "stream",
          "text": [
            "Test labels:  {0: 980, 1: 1135, 2: 1032, 3: 1010, 4: 982, 5: 892, 6: 958, 7: 1028, 8: 974, 9: 1009}\n"
          ],
          "name": "stdout"
        }
      ]
    },
    {
      "cell_type": "code",
      "metadata": {
        "id": "Dq42NYbzlfpQ",
        "colab_type": "code",
        "colab": {}
      },
      "source": [
        "indexes = np.random.randint(0, x_train.shape[0], size=25)\n",
        "images = x_train[indexes]\n",
        "labels = y_train[indexes]"
      ],
      "execution_count": 0,
      "outputs": []
    },
    {
      "cell_type": "markdown",
      "metadata": {
        "id": "3F6ArhvQm8Ou",
        "colab_type": "text"
      },
      "source": [
        "choose a 5x5= 25 random numbers/digits from the list"
      ]
    },
    {
      "cell_type": "code",
      "metadata": {
        "id": "aXXe-O6-lxvZ",
        "colab_type": "code",
        "outputId": "255be4b9-b65e-476a-ce1d-8bff3689d481",
        "colab": {
          "base_uri": "https://localhost:8080/",
          "height": 0
        }
      },
      "source": [
        "plt.figure(figsize=(5,5))\n",
        "for i in range(len(indexes)):\n",
        "    plt.subplot(5,5, i+1)\n",
        "    image = images[i]\n",
        "    plt.imshow(image, cmap= 'gray')\n",
        "    plt.axis('off')\n",
        "plt.show()\n",
        "plt.savefig(\"mnist-samples.png\")\n",
        "plt.close('all')"
      ],
      "execution_count": 8,
      "outputs": [
        {
          "output_type": "display_data",
          "data": {
            "image/png": "[encoded data removed]",
            "text/plain": [
              "<Figure size 360x360 with 25 Axes>"
            ]
          },
          "metadata": {
            "tags": []
          }
        }
      ]
    },
    {
      "cell_type": "markdown",
      "metadata": {
        "id": "F8f0t06encbl",
        "colab_type": "text"
      },
      "source": [
        "# Classifying the digits"
      ]
    },
    {
      "cell_type": "markdown",
      "metadata": {
        "id": "uz3hrTMoFFEU",
        "colab_type": "text"
      },
      "source": [
        "*MLP fully connected network*"
      ]
    },
    {
      "cell_type": "code",
      "metadata": {
        "id": "hlk0ns9pIWn9",
        "colab_type": "code",
        "colab": {}
      },
      "source": [
        "(x_train, y_train), (x_test, y_test) = mnist.load_data()\n"
      ],
      "execution_count": 0,
      "outputs": []
    },
    {
      "cell_type": "code",
      "metadata": {
        "id": "k94KUCOBnELu",
        "colab_type": "code",
        "colab": {}
      },
      "source": [
        "num_labels = len(np.unique(y_train))"
      ],
      "execution_count": 0,
      "outputs": []
    },
    {
      "cell_type": "code",
      "metadata": {
        "id": "Enmuo3uowkPj",
        "colab_type": "code",
        "colab": {}
      },
      "source": [
        "y_train = to_categorical(y_train)\n",
        "y_test = to_categorical(y_test)\n"
      ],
      "execution_count": 0,
      "outputs": []
    },
    {
      "cell_type": "code",
      "metadata": {
        "id": "Vt1-k6slwlzT",
        "colab_type": "code",
        "colab": {}
      },
      "source": [
        "image_size = x_train.shape[1]\n",
        "input_size = image_size * image_size"
      ],
      "execution_count": 0,
      "outputs": []
    },
    {
      "cell_type": "markdown",
      "metadata": {
        "id": "NKIR1A9cw8lz",
        "colab_type": "text"
      },
      "source": [
        "resize and normalize\n"
      ]
    },
    {
      "cell_type": "code",
      "metadata": {
        "id": "yNYYzcr2w6ey",
        "colab_type": "code",
        "colab": {}
      },
      "source": [
        "x_train = np.reshape(x_train, [-1, input_size])\n",
        "x_train = x_train.astype('float32') / 255\n",
        "\n",
        "x_test = np.reshape(x_test, [-1, input_size])\n",
        "x_test = x_test.astype('float32') / 255\n"
      ],
      "execution_count": 0,
      "outputs": []
    },
    {
      "cell_type": "markdown",
      "metadata": {
        "id": "gWMLs41yxCmC",
        "colab_type": "text"
      },
      "source": [
        "network parameters"
      ]
    },
    {
      "cell_type": "code",
      "metadata": {
        "id": "E0n-bvJ6w_XD",
        "colab_type": "code",
        "colab": {}
      },
      "source": [
        "batch_size = 128\n",
        "hidden_units = 256\n",
        "dropout = 0.45"
      ],
      "execution_count": 0,
      "outputs": []
    },
    {
      "cell_type": "markdown",
      "metadata": {
        "id": "CRINsCPDHCAh",
        "colab_type": "text"
      },
      "source": [
        "3-layer MLP with ReLU and dropout after each layer"
      ]
    },
    {
      "cell_type": "code",
      "metadata": {
        "id": "bSIXs-XQxHvQ",
        "colab_type": "code",
        "colab": {
          "base_uri": "https://localhost:8080/",
          "height": 257
        },
        "outputId": "4bb6035f-329e-4df7-f212-28047bc99284"
      },
      "source": [
        "model = Sequential()\n",
        "model.add(Dense(hidden_units, input_dim=input_size))\n",
        "model.add(Activation('relu'))\n",
        "model.add(Dropout(dropout))\n",
        "model.add(Dense(hidden_units))\n",
        "model.add(Activation('relu'))\n",
        "model.add(Dropout(dropout))\n",
        "model.add(Dense(num_labels))\n",
        "model.add(Activation('softmax'))"
      ],
      "execution_count": 15,
      "outputs": [
        {
          "output_type": "stream",
          "text": [
            "WARNING: Logging before flag parsing goes to stderr.\n",
            "W0627 08:53:39.883226 139647679649664 deprecation_wrapper.py:119] From /usr/local/lib/python3.6/dist-packages/keras/backend/tensorflow_backend.py:74: The name tf.get_default_graph is deprecated. Please use tf.compat.v1.get_default_graph instead.\n",
            "\n",
            "W0627 08:53:39.904662 139647679649664 deprecation_wrapper.py:119] From /usr/local/lib/python3.6/dist-packages/keras/backend/tensorflow_backend.py:517: The name tf.placeholder is deprecated. Please use tf.compat.v1.placeholder instead.\n",
            "\n",
            "W0627 08:53:39.908128 139647679649664 deprecation_wrapper.py:119] From /usr/local/lib/python3.6/dist-packages/keras/backend/tensorflow_backend.py:4138: The name tf.random_uniform is deprecated. Please use tf.random.uniform instead.\n",
            "\n",
            "W0627 08:53:39.928492 139647679649664 deprecation_wrapper.py:119] From /usr/local/lib/python3.6/dist-packages/keras/backend/tensorflow_backend.py:133: The name tf.placeholder_with_default is deprecated. Please use tf.compat.v1.placeholder_with_default instead.\n",
            "\n",
            "W0627 08:53:39.940563 139647679649664 deprecation.py:506] From /usr/local/lib/python3.6/dist-packages/keras/backend/tensorflow_backend.py:3445: calling dropout (from tensorflow.python.ops.nn_ops) with keep_prob is deprecated and will be removed in a future version.\n",
            "Instructions for updating:\n",
            "Please use `rate` instead of `keep_prob`. Rate should be set to `rate = 1 - keep_prob`.\n"
          ],
          "name": "stderr"
        }
      ]
    },
    {
      "cell_type": "code",
      "metadata": {
        "id": "YgRis4RmyVQC",
        "colab_type": "code",
        "outputId": "2d0b6d8d-96a0-4a3b-e2e1-5502ffd9c752",
        "colab": {
          "base_uri": "https://localhost:8080/",
          "height": 533
        }
      },
      "source": [
        "\n",
        "model.compile(loss='categorical_crossentropy',\n",
        "              optimizer='adam',\n",
        "              metrics=['accuracy'])\n",
        "model.summary()\n"
      ],
      "execution_count": 16,
      "outputs": [
        {
          "output_type": "stream",
          "text": [
            "W0627 08:53:40.018641 139647679649664 deprecation_wrapper.py:119] From /usr/local/lib/python3.6/dist-packages/keras/optimizers.py:790: The name tf.train.Optimizer is deprecated. Please use tf.compat.v1.train.Optimizer instead.\n",
            "\n",
            "W0627 08:53:40.057034 139647679649664 deprecation_wrapper.py:119] From /usr/local/lib/python3.6/dist-packages/keras/backend/tensorflow_backend.py:3295: The name tf.log is deprecated. Please use tf.math.log instead.\n",
            "\n"
          ],
          "name": "stderr"
        },
        {
          "output_type": "stream",
          "text": [
            "_________________________________________________________________\n",
            "Layer (type)                 Output Shape              Param #   \n",
            "=================================================================\n",
            "dense_1 (Dense)              (None, 256)               200960    \n",
            "_________________________________________________________________\n",
            "activation_1 (Activation)    (None, 256)               0         \n",
            "_________________________________________________________________\n",
            "dropout_1 (Dropout)          (None, 256)               0         \n",
            "_________________________________________________________________\n",
            "dense_2 (Dense)              (None, 256)               65792     \n",
            "_________________________________________________________________\n",
            "activation_2 (Activation)    (None, 256)               0         \n",
            "_________________________________________________________________\n",
            "dropout_2 (Dropout)          (None, 256)               0         \n",
            "_________________________________________________________________\n",
            "dense_3 (Dense)              (None, 10)                2570      \n",
            "_________________________________________________________________\n",
            "activation_3 (Activation)    (None, 10)                0         \n",
            "=================================================================\n",
            "Total params: 269,322\n",
            "Trainable params: 269,322\n",
            "Non-trainable params: 0\n",
            "_________________________________________________________________\n"
          ],
          "name": "stdout"
        }
      ]
    },
    {
      "cell_type": "code",
      "metadata": {
        "id": "bsywypH5_xrJ",
        "colab_type": "code",
        "colab": {}
      },
      "source": [
        "plot_model(model, to_file='mlp-mnist.png', show_shapes=True)"
      ],
      "execution_count": 0,
      "outputs": []
    },
    {
      "cell_type": "markdown",
      "metadata": {
        "id": "w8mRSNPaFNG-",
        "colab_type": "text"
      },
      "source": [
        "train the network"
      ]
    },
    {
      "cell_type": "code",
      "metadata": {
        "id": "kmz56zE-y6JH",
        "colab_type": "code",
        "outputId": "abdd5188-c9f7-4a3d-ad89-fd34911a6e15",
        "colab": {
          "base_uri": "https://localhost:8080/",
          "height": 845
        }
      },
      "source": [
        "model.fit(x_train, y_train, epochs=20, batch_size=batch_size)\n"
      ],
      "execution_count": 18,
      "outputs": [
        {
          "output_type": "stream",
          "text": [
            "W0627 08:53:40.300831 139647679649664 deprecation.py:323] From /usr/local/lib/python3.6/dist-packages/tensorflow/python/ops/math_grad.py:1250: add_dispatch_support.<locals>.wrapper (from tensorflow.python.ops.array_ops) is deprecated and will be removed in a future version.\n",
            "Instructions for updating:\n",
            "Use tf.where in 2.0, which has the same broadcast rule as np.where\n"
          ],
          "name": "stderr"
        },
        {
          "output_type": "stream",
          "text": [
            "Epoch 1/20\n",
            "60000/60000 [==============================] - 4s 60us/step - loss: 0.4361 - acc: 0.8653\n",
            "Epoch 2/20\n",
            "60000/60000 [==============================] - 3s 44us/step - loss: 0.1984 - acc: 0.9411\n",
            "Epoch 3/20\n",
            "60000/60000 [==============================] - 3s 44us/step - loss: 0.1533 - acc: 0.9538\n",
            "Epoch 4/20\n",
            "60000/60000 [==============================] - 3s 44us/step - loss: 0.1300 - acc: 0.9603\n",
            "Epoch 5/20\n",
            "60000/60000 [==============================] - 3s 44us/step - loss: 0.1150 - acc: 0.9648\n",
            "Epoch 6/20\n",
            "60000/60000 [==============================] - 3s 44us/step - loss: 0.0997 - acc: 0.9687\n",
            "Epoch 7/20\n",
            "60000/60000 [==============================] - 3s 45us/step - loss: 0.0967 - acc: 0.9707\n",
            "Epoch 8/20\n",
            "60000/60000 [==============================] - 3s 44us/step - loss: 0.0881 - acc: 0.9730\n",
            "Epoch 9/20\n",
            "60000/60000 [==============================] - 3s 44us/step - loss: 0.0821 - acc: 0.9742\n",
            "Epoch 10/20\n",
            "60000/60000 [==============================] - 3s 44us/step - loss: 0.0793 - acc: 0.9755\n",
            "Epoch 11/20\n",
            "60000/60000 [==============================] - 3s 44us/step - loss: 0.0727 - acc: 0.9777\n",
            "Epoch 12/20\n",
            "60000/60000 [==============================] - 3s 44us/step - loss: 0.0699 - acc: 0.9785\n",
            "Epoch 13/20\n",
            "60000/60000 [==============================] - 3s 44us/step - loss: 0.0681 - acc: 0.9785\n",
            "Epoch 14/20\n",
            "60000/60000 [==============================] - 3s 44us/step - loss: 0.0655 - acc: 0.9791\n",
            "Epoch 15/20\n",
            "60000/60000 [==============================] - 3s 44us/step - loss: 0.0648 - acc: 0.9792\n",
            "Epoch 16/20\n",
            "60000/60000 [==============================] - 3s 44us/step - loss: 0.0604 - acc: 0.9808\n",
            "Epoch 17/20\n",
            "60000/60000 [==============================] - 3s 44us/step - loss: 0.0588 - acc: 0.9811\n",
            "Epoch 18/20\n",
            "60000/60000 [==============================] - 3s 44us/step - loss: 0.0572 - acc: 0.9818\n",
            "Epoch 19/20\n",
            "60000/60000 [==============================] - 3s 44us/step - loss: 0.0540 - acc: 0.9825\n",
            "Epoch 20/20\n",
            "60000/60000 [==============================] - 3s 45us/step - loss: 0.0534 - acc: 0.9829\n"
          ],
          "name": "stdout"
        },
        {
          "output_type": "execute_result",
          "data": {
            "text/plain": [
              "<keras.callbacks.History at 0x7f01f54ef710>"
            ]
          },
          "metadata": {
            "tags": []
          },
          "execution_count": 18
        }
      ]
    },
    {
      "cell_type": "markdown",
      "metadata": {
        "id": "fgEC4XkP22Rg",
        "colab_type": "text"
      },
      "source": [
        "***Epoch: an arbitrary cutoff, generally defined as \"one pass over the entire dataset\", used to separate training into distinct phases, which is useful for logging and periodic evaluation.***\n",
        "\n",
        "***batch size parameter: is the sample size of the number of inputs to process at each training step ***\n"
      ]
    },
    {
      "cell_type": "markdown",
      "metadata": {
        "id": "t2Z76BWr66HR",
        "colab_type": "text"
      },
      "source": [
        "loss: we want to minimize it. if the loss is reduced to an acceptable level, the model has indirectly learned the function mapping input to output\n",
        "\n",
        "\n",
        "accuracy: is the percent of correct predictions based on ground truth"
      ]
    },
    {
      "cell_type": "markdown",
      "metadata": {
        "id": "iVYGahqGEGvN",
        "colab_type": "text"
      },
      "source": [
        "validate the model on test dataset to determine generalization\n"
      ]
    },
    {
      "cell_type": "code",
      "metadata": {
        "id": "_Qcn9GENy49O",
        "colab_type": "code",
        "outputId": "7a96de73-c570-4f8d-951c-14e7ad168ae1",
        "colab": {
          "base_uri": "https://localhost:8080/",
          "height": 35
        }
      },
      "source": [
        "loss, acc = model.evaluate(x_test, y_test, batch_size=batch_size)"
      ],
      "execution_count": 19,
      "outputs": [
        {
          "output_type": "stream",
          "text": [
            "10000/10000 [==============================] - 0s 22us/step\n"
          ],
          "name": "stdout"
        }
      ]
    },
    {
      "cell_type": "code",
      "metadata": {
        "id": "mvQ34uyU1jON",
        "colab_type": "code",
        "colab": {
          "base_uri": "https://localhost:8080/",
          "height": 54
        },
        "outputId": "dcb59c58-8e55-4a72-dede-255eaa57aa5b"
      },
      "source": [
        "print(\"\\n Test accuracy: %.1f%%\" % (100.0 * acc))"
      ],
      "execution_count": 20,
      "outputs": [
        {
          "output_type": "stream",
          "text": [
            "\n",
            " Test accuracy: 98.3%\n"
          ],
          "name": "stdout"
        }
      ]
    },
    {
      "cell_type": "code",
      "metadata": {
        "id": "uJ_mOdoNEfda",
        "colab_type": "code",
        "colab": {
          "base_uri": "https://localhost:8080/",
          "height": 35
        },
        "outputId": "1ffaf6b0-d121-4dc0-d59c-5ef06bcf8337"
      },
      "source": [
        "loss\n"
      ],
      "execution_count": 21,
      "outputs": [
        {
          "output_type": "execute_result",
          "data": {
            "text/plain": [
              "0.06608602294450976"
            ]
          },
          "metadata": {
            "tags": []
          },
          "execution_count": 21
        }
      ]
    },
    {
      "cell_type": "code",
      "metadata": {
        "id": "1o2e6UaFEmc_",
        "colab_type": "code",
        "colab": {}
      },
      "source": [
        ""
      ],
      "execution_count": 0,
      "outputs": []
    }
  ]
}